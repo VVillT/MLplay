{
 "cells": [
  {
   "cell_type": "code",
   "execution_count": 51,
   "metadata": {},
   "outputs": [],
   "source": [
    "import numpy as np \n",
    "import pandas as pd\n",
    "import datetime, csv ,os ,pprint\n",
    "import matplotlib.pyplot as plt\n",
    "import seaborn as sns\n"
   ]
  },
  {
   "cell_type": "markdown",
   "metadata": {},
   "source": [
    "## Import data and get ready for Tableau first run "
   ]
  },
  {
   "cell_type": "code",
   "execution_count": 10,
   "metadata": {},
   "outputs": [
    {
     "name": "stdout",
     "output_type": "stream",
     "text": [
      "   PassengerId  Pclass              Name   Sex   Age  SibSp  Parch  Ticket  \\\n",
      "0          892       3  Kelly, Mr. James  male  34.5      0      0  330911   \n",
      "\n",
      "     Fare Cabin Embarked  \n",
      "0  7.8292   NaN        Q   \n",
      "\n",
      "   PassengerId  Survived\n",
      "0          892         0 \n",
      "\n",
      "   PassengerId  Survived  Pclass                     Name   Sex   Age  SibSp  \\\n",
      "0            1         0       3  Braund, Mr. Owen Harris  male  22.0      1   \n",
      "\n",
      "   Parch     Ticket  Fare Cabin Embarked  \n",
      "0      0  A/5 21171  7.25   NaN        S   \n",
      "\n"
     ]
    }
   ],
   "source": [
    "test = pd.read_csv(\"D:\\\\William\\\\Jupyter\\\\Titanic Tableau\\\\test.csv\")\n",
    "train = pd.read_csv(\"D:\\\\William\\\\Jupyter\\\\Titanic Tableau\\\\train.csv\")\n",
    "testpt2 = pd.read_csv(\"D:\\\\William\\\\Jupyter\\\\Titanic Tableau\\\\gender_submission.csv\")\n",
    "print(test.head(1), '\\n')\n",
    "print(testpt2.head(1), '\\n' )\n",
    "print(train.head(1), '\\n')"
   ]
  },
  {
   "cell_type": "code",
   "execution_count": 16,
   "metadata": {},
   "outputs": [
    {
     "name": "stdout",
     "output_type": "stream",
     "text": [
      "(418, 12)\n",
      "(418, 11)\n",
      "(418, 2)\n"
     ]
    }
   ],
   "source": [
    "testfull = pd.merge(test, testpt2 , on= \"PassengerId\")\n",
    "print(testfull.shape)\n",
    "print(test.shape)\n",
    "print(testpt2.shape)"
   ]
  },
  {
   "cell_type": "code",
   "execution_count": 22,
   "metadata": {},
   "outputs": [],
   "source": [
    "testfull['file'] = 'test'\n",
    "train['file'] = 'train'"
   ]
  },
  {
   "cell_type": "code",
   "execution_count": 23,
   "metadata": {},
   "outputs": [
    {
     "name": "stdout",
     "output_type": "stream",
     "text": [
      "(418, 13)\n",
      "(891, 13)\n",
      "(1309, 13)\n"
     ]
    }
   ],
   "source": [
    "fulltableau = train.append(testfull)\n",
    "print(testfull.shape)\n",
    "print(train.shape)\n",
    "print(fulltableau.shape)"
   ]
  },
  {
   "cell_type": "code",
   "execution_count": 24,
   "metadata": {},
   "outputs": [],
   "source": [
    "fulltableau.to_csv(\"D:\\\\William\\\\Jupyter\\\\Titanic Tableau\\\\explore_data2tableau.csv\" , index = False)"
   ]
  },
  {
   "cell_type": "markdown",
   "metadata": {},
   "source": [
    "## Note that this can be done with either R and/or Python integration but for Tableau public ..."
   ]
  },
  {
   "cell_type": "code",
   "execution_count": 27,
   "metadata": {},
   "outputs": [
    {
     "name": "stdout",
     "output_type": "stream",
     "text": [
      "<class 'pandas.core.frame.DataFrame'>\n",
      "RangeIndex: 1309 entries, 0 to 1308\n",
      "Data columns (total 13 columns):\n",
      "Passenger Id     1309 non-null int64\n",
      "NewEmbarked      1309 non-null object\n",
      "Pclass           1309 non-null int64\n",
      "AgeBin           1309 non-null int64\n",
      "New age          1309 non-null int64\n",
      "Titles           1309 non-null object\n",
      "Embarked         1307 non-null object\n",
      "FareBin          1309 non-null int64\n",
      "Fare             1308 non-null float64\n",
      "Survived         1309 non-null int64\n",
      "Sex              1309 non-null object\n",
      "File             1309 non-null object\n",
      "Total_Company    1309 non-null int64\n",
      "dtypes: float64(1), int64(7), object(5)\n",
      "memory usage: 133.0+ KB\n"
     ]
    }
   ],
   "source": [
    "trainmodel = pd.read_csv(\"D:\\\\William\\\\Jupyter\\\\Titanic Tableau\\\\Tableau_Export_crosstab.csv\")\n",
    "trainmodel.info()"
   ]
  },
  {
   "cell_type": "code",
   "execution_count": 30,
   "metadata": {},
   "outputs": [
    {
     "data": {
      "text/plain": [
       "Index(['Passenger Id', 'NewEmbarked', 'Pclass', 'AgeBin', 'New age', 'Titles',\n",
       "       'Embarked', 'FareBin', 'Fare', 'Survived', 'Sex', 'File',\n",
       "       'Total_Company'],\n",
       "      dtype='object')"
      ]
     },
     "execution_count": 30,
     "metadata": {},
     "output_type": "execute_result"
    }
   ],
   "source": [
    "trainmodel.columns"
   ]
  },
  {
   "cell_type": "code",
   "execution_count": 45,
   "metadata": {},
   "outputs": [],
   "source": [
    "#trainmodel_trans\n",
    "trainmodel_trans = trainmodel.copy()\n",
    "trainmodel_trans['Sex'].replace(['male','female'],[0,1],inplace=True)\n",
    "trainmodel_trans['NewEmbarked'].replace(['S','C','Q'],[0,1,2],inplace=True)\n",
    "trainmodel_trans['Titles'].replace(['Mr','Ms','Honorary','Officer'],[0,1,2,3],inplace=True)"
   ]
  },
  {
   "cell_type": "code",
   "execution_count": 97,
   "metadata": {},
   "outputs": [
    {
     "name": "stdout",
     "output_type": "stream",
     "text": [
      "(891, 13) (418, 13)\n",
      "(891, 7) (418, 7) (891,) (418,)\n"
     ]
    }
   ],
   "source": [
    "train , test  = trainmodel_trans[trainmodel_trans['File']== 'train'] , trainmodel_trans[trainmodel_trans['File'] != 'train']\n",
    "print(train.shape , test.shape)\n",
    "features = ['Pclass', 'AgeBin', 'Titles','NewEmbarked', 'FareBin', 'Sex','Total_Company']\n",
    "train_x , test_x = train[features] , test[features]\n",
    "train_y , test_y = train['Survived'] , test['Survived']\n",
    "print(train_x.shape , test_x.shape, train_y.shape , test_y.shape)"
   ]
  },
  {
   "cell_type": "code",
   "execution_count": 47,
   "metadata": {},
   "outputs": [
    {
     "data": {
      "text/html": [
       "<div>\n",
       "<style scoped>\n",
       "    .dataframe tbody tr th:only-of-type {\n",
       "        vertical-align: middle;\n",
       "    }\n",
       "\n",
       "    .dataframe tbody tr th {\n",
       "        vertical-align: top;\n",
       "    }\n",
       "\n",
       "    .dataframe thead th {\n",
       "        text-align: right;\n",
       "    }\n",
       "</style>\n",
       "<table border=\"1\" class=\"dataframe\">\n",
       "  <thead>\n",
       "    <tr style=\"text-align: right;\">\n",
       "      <th></th>\n",
       "      <th>Pclass</th>\n",
       "      <th>AgeBin</th>\n",
       "      <th>Titles</th>\n",
       "      <th>NewEmbarked</th>\n",
       "      <th>FareBin</th>\n",
       "      <th>Sex</th>\n",
       "      <th>Total_Company</th>\n",
       "    </tr>\n",
       "  </thead>\n",
       "  <tbody>\n",
       "    <tr>\n",
       "      <th>0</th>\n",
       "      <td>3</td>\n",
       "      <td>1</td>\n",
       "      <td>0</td>\n",
       "      <td>0</td>\n",
       "      <td>0</td>\n",
       "      <td>0</td>\n",
       "      <td>1</td>\n",
       "    </tr>\n",
       "    <tr>\n",
       "      <th>1</th>\n",
       "      <td>1</td>\n",
       "      <td>2</td>\n",
       "      <td>1</td>\n",
       "      <td>1</td>\n",
       "      <td>5</td>\n",
       "      <td>1</td>\n",
       "      <td>1</td>\n",
       "    </tr>\n",
       "    <tr>\n",
       "      <th>2</th>\n",
       "      <td>3</td>\n",
       "      <td>1</td>\n",
       "      <td>1</td>\n",
       "      <td>0</td>\n",
       "      <td>1</td>\n",
       "      <td>1</td>\n",
       "      <td>0</td>\n",
       "    </tr>\n",
       "    <tr>\n",
       "      <th>3</th>\n",
       "      <td>1</td>\n",
       "      <td>2</td>\n",
       "      <td>1</td>\n",
       "      <td>0</td>\n",
       "      <td>5</td>\n",
       "      <td>1</td>\n",
       "      <td>1</td>\n",
       "    </tr>\n",
       "    <tr>\n",
       "      <th>4</th>\n",
       "      <td>3</td>\n",
       "      <td>2</td>\n",
       "      <td>0</td>\n",
       "      <td>0</td>\n",
       "      <td>1</td>\n",
       "      <td>0</td>\n",
       "      <td>0</td>\n",
       "    </tr>\n",
       "  </tbody>\n",
       "</table>\n",
       "</div>"
      ],
      "text/plain": [
       "   Pclass  AgeBin  Titles  NewEmbarked  FareBin  Sex  Total_Company\n",
       "0       3       1       0            0        0    0              1\n",
       "1       1       2       1            1        5    1              1\n",
       "2       3       1       1            0        1    1              0\n",
       "3       1       2       1            0        5    1              1\n",
       "4       3       2       0            0        1    0              0"
      ]
     },
     "execution_count": 47,
     "metadata": {},
     "output_type": "execute_result"
    }
   ],
   "source": [
    "train_x.head()"
   ]
  },
  {
   "cell_type": "code",
   "execution_count": 48,
   "metadata": {},
   "outputs": [
    {
     "data": {
      "text/plain": [
       "Pclass           False\n",
       "AgeBin           False\n",
       "Titles           False\n",
       "NewEmbarked      False\n",
       "FareBin          False\n",
       "Sex              False\n",
       "Total_Company    False\n",
       "dtype: bool"
      ]
     },
     "execution_count": 48,
     "metadata": {},
     "output_type": "execute_result"
    }
   ],
   "source": [
    "train_x.isnull().any()"
   ]
  },
  {
   "cell_type": "code",
   "execution_count": 100,
   "metadata": {},
   "outputs": [
    {
     "name": "stdout",
     "output_type": "stream",
     "text": [
      "The accuracy of the Logistic Regression model is \t 0.8899521531100478\n"
     ]
    },
    {
     "data": {
      "image/png": "[encoded data removed]",
      "text/plain": [
       "<Figure size 432x288 with 2 Axes>"
      ]
     },
     "metadata": {
      "needs_background": "light"
     },
     "output_type": "display_data"
    },
    {
     "name": "stdout",
     "output_type": "stream",
     "text": [
      "[-0.01084865 -0.53507607 -0.46048421  0.50679804  0.21541457  0.29015168\n",
      "  1.31723993 -0.23924154]\n",
      "       variables  Coefficients  Standard Errors  t values  Probabilites\n",
      "0       Constant       -0.0108            0.135    -0.080         0.936\n",
      "1         Pclass       -0.5351            0.037   -14.294         0.000\n",
      "2         AgeBin       -0.4605            0.025   -18.371         0.000\n",
      "3         Titles        0.5068            0.061     8.271         0.000\n",
      "4    NewEmbarked        0.2154            0.025     8.691         0.000\n",
      "5        FareBin        0.2902            0.019    15.635         0.000\n",
      "6            Sex        1.3172            0.068    19.284         0.000\n",
      "7  Total_Company       -0.2392            0.014   -17.248         0.000 \n",
      "\n",
      "\n",
      "\n",
      "\n",
      "\n",
      "The accuracy of the Decision Tree is \t\t\t 0.8133971291866029\n"
     ]
    },
    {
     "name": "stderr",
     "output_type": "stream",
     "text": [
      "C:\\ProgramData\\Anaconda3\\lib\\site-packages\\sklearn\\ensemble\\forest.py:246: FutureWarning: The default value of n_estimators will change from 10 in version 0.20 to 100 in 0.22.\n",
      "  \"10 in version 0.20 to 100 in 0.22.\", FutureWarning)\n"
     ]
    },
    {
     "data": {
      "image/png": "[encoded data removed]",
      "text/plain": [
       "<Figure size 432x288 with 2 Axes>"
      ]
     },
     "metadata": {
      "needs_background": "light"
     },
     "output_type": "display_data"
    },
    {
     "data": {
      "image/png": "[encoded data removed]",
      "text/plain": [
       "<Figure size 432x288 with 1 Axes>"
      ]
     },
     "metadata": {
      "needs_background": "light"
     },
     "output_type": "display_data"
    }
   ],
   "source": [
    "from sklearn.linear_model import LogisticRegression #logistic regression\n",
    "from sklearn.ensemble import RandomForestClassifier #Random Forest\n",
    "from sklearn import metrics #accuracy measure\n",
    "from sklearn.metrics import confusion_matrix #for confusion matrix\n",
    "from scipy import stats\n",
    "# Logistic Regression\n",
    "lr_model = LogisticRegression(C=0.05,solver='liblinear')\n",
    "lr_model.fit(train_x,train_y.values.ravel())\n",
    "lr_prediction = lr_model.predict(test_x)\n",
    "lr_pred = lr_model.predict_proba(test_x)\n",
    "print('The accuracy of the Logistic Regression model is \\t',metrics.accuracy_score(lr_prediction,test_y))\n",
    "sns.heatmap(confusion_matrix(test_y,lr_prediction),annot=True,fmt='2.0f')\n",
    "plt.title('Matrix for Logistic Regression')\n",
    "plt.show()\n",
    "params = np.append(lr_model.intercept_,lr_model.coef_)\n",
    "print(params)\n",
    "\n",
    "newX = pd.DataFrame({\"Constant\":np.ones(len(test_x))}).join(pd.DataFrame(test_x.reset_index()))\n",
    "newX.drop(\"index\",axis =1,  inplace=True)\n",
    "MSE = (sum((test_y-lr_prediction)**2))/(len(newX)-len(newX.columns))\n",
    "var_b = MSE*(np.linalg.inv(np.dot(newX.T,newX)).diagonal())\n",
    "\n",
    "sd_b = np.sqrt(var_b)\n",
    "ts_b = params/ sd_b\n",
    "\n",
    "p_values =[2*(1-stats.t.cdf(np.abs(i),(len(newX)-1))) for i in ts_b]\n",
    "\n",
    "sd_b = np.round(sd_b,3)\n",
    "ts_b = np.round(ts_b,3)\n",
    "p_values = np.round(p_values,3)\n",
    "params = np.round(params,4)\n",
    "\n",
    "myDF3 = pd.DataFrame()\n",
    "features = ['Pclass', 'AgeBin', 'Titles','NewEmbarked', 'FareBin', 'Sex','Total_Company']\n",
    "varslst = features\n",
    "varslst.insert(0,\"Constant\")\n",
    "myDF3['variables'],myDF3[\"Coefficients\"],myDF3[\"Standard Errors\"],myDF3[\"t values\"],myDF3[\"Probabilites\"] = [varslst,params,sd_b,ts_b,p_values]\n",
    "print(myDF3, '\\n\\n\\n\\n\\n')\n",
    "\n",
    "# Decision Tree\n",
    "rf_model = RandomForestClassifier()\n",
    "rf_model.fit(train_x,train_y)\n",
    "rf_prediction = rf_model.predict(test_x)\n",
    "rf_pred = rf_model.predict_proba(test_x)\n",
    "print('The accuracy of the Decision Tree is \\t\\t\\t',metrics.accuracy_score(rf_prediction,test_y))\n",
    "sns.heatmap(confusion_matrix(test_y,rf_prediction),annot=True,fmt='2.0f')\n",
    "plt.title('Matrix for Random-Forests')\n",
    "plt.show()\n",
    "\n",
    "pd.Series(rf_model.feature_importances_,train_x.columns).sort_values(ascending=True).plot.barh(width=0.8)\n",
    "plt.title('Feature Importance in Random Forests')\n",
    "plt.show()"
   ]
  },
  {
   "cell_type": "code",
   "execution_count": null,
   "metadata": {},
   "outputs": [],
   "source": []
  }
 ],
 "metadata": {
  "kernelspec": {
   "display_name": "Python 3",
   "language": "python",
   "name": "python3"
  },
  "language_info": {
   "codemirror_mode": {
    "name": "ipython",
    "version": 3
   },
   "file_extension": ".py",
   "mimetype": "text/x-python",
   "name": "python",
   "nbconvert_exporter": "python",
   "pygments_lexer": "ipython3",
   "version": "3.6.8"
  }
 },
 "nbformat": 4,
 "nbformat_minor": 2
}
